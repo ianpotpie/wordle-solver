{
 "cells": [
  {
   "cell_type": "code",
   "execution_count": 67,
   "id": "c3c5980e-26cb-449e-8783-bf62f77d7dd2",
   "metadata": {},
   "outputs": [],
   "source": [
    "import numpy as np\n",
    "from collections import Counter, defaultdict\n",
    "from tqdm.notebook import tqdm_notebook\n",
    "from scipy.stats import entropy\n",
    "import threading"
   ]
  },
  {
   "cell_type": "code",
   "execution_count": 68,
   "id": "da5f6c63-45b7-4479-8a22-7cc83d5d7bc1",
   "metadata": {},
   "outputs": [],
   "source": [
    "VOCAB_FILES = [\"dictionaries/wordle-guesses.txt\", \"dictionaries/wordle-answers.txt\"]"
   ]
  },
  {
   "cell_type": "code",
   "execution_count": 69,
   "id": "322e6060-a87c-4d4b-a7cf-8c111524fbda",
   "metadata": {},
   "outputs": [],
   "source": [
    "def load_vocab(filepaths):\n",
    "    vocab = set()\n",
    "    for filepath in filepaths:\n",
    "        with open(filepath) as f:\n",
    "            for line in f:\n",
    "                vocab.add(line.strip())\n",
    "            \n",
    "    vocab_list = list(vocab)\n",
    "    vocab_to_idx = {w:i for i, w in enumerate(vocab_list)}\n",
    "    return vocab_list, vocab_to_idx"
   ]
  },
  {
   "cell_type": "code",
   "execution_count": 70,
   "id": "52f259e7-cfa8-4261-b69a-290f95ccfc23",
   "metadata": {},
   "outputs": [
    {
     "name": "stdout",
     "output_type": "stream",
     "text": [
      "12972\n"
     ]
    }
   ],
   "source": [
    "vocab_list, vocab_to_idx = load_vocab(VOCAB_FILES)\n",
    "vocab_list = vocab_list\n",
    "print(len(vocab_list))"
   ]
  },
  {
   "cell_type": "markdown",
   "id": "bd4c9ced-2b25-4d44-83bd-fba1a982fc58",
   "metadata": {},
   "source": [
    "## Hint Representation\n",
    "\n",
    "We need a function that produces the hint string given a guess word and a goal word.\n",
    "\n",
    "Hints take the form of an n-length array where n is the length of the guess word. Hints are created with the following rules (Let $c_i$ be the $i$th character of the guess word):\n",
    "\n",
    "1. The $i$th position in the hint contains a 0 if $c_i$ does not appear in the goal word or if the $i$-length prefix of the guess word contains at least $n$ instances of $c_i$, where $n$ is the number of times $c_i$ appears in the goal word.\n",
    "\n",
    "2. The $i$th position in the hint contains a 1 if $c_i$ appears in the goal word, but not in position $i$. \n",
    "\n",
    "3. The $i$th position in the hint contains a 2 if the $i$th position of the goal word is $c_i$"
   ]
  },
  {
   "cell_type": "code",
   "execution_count": 71,
   "id": "1c70ecab-88a9-495b-9120-8bb60b55bb8d",
   "metadata": {},
   "outputs": [],
   "source": [
    "def get_hint(guess_word, goal_word):\n",
    "    hint = np.zeros(len(guess_word), dtype=int)\n",
    "    \n",
    "    guess_counts = defaultdict(int)\n",
    "    goal_counts = Counter(goal_word)\n",
    "    \n",
    "    for i, c in enumerate(guess_word):\n",
    "        guess_counts[c] += 1\n",
    "        if goal_counts[c] < guess_counts[c]:\n",
    "            hint[i] = 0\n",
    "        elif c != goal_word[i]:\n",
    "            hint[i] = 1\n",
    "        else:\n",
    "            hint[i] = 2\n",
    "        \n",
    "    return hint"
   ]
  },
  {
   "cell_type": "code",
   "execution_count": 72,
   "id": "7e681fb5-5553-4c1a-b019-7e60ef877b47",
   "metadata": {},
   "outputs": [
    {
     "data": {
      "text/plain": [
       "array([2, 1, 0, 0, 0])"
      ]
     },
     "execution_count": 72,
     "metadata": {},
     "output_type": "execute_result"
    }
   ],
   "source": [
    "example_hint = get_hint(\"aroma\", \"alter\")\n",
    "example_hint"
   ]
  },
  {
   "cell_type": "code",
   "execution_count": 73,
   "id": "cf717ad0-1ad1-4391-ab30-8eb00b298487",
   "metadata": {},
   "outputs": [],
   "source": [
    "def hint_to_str(hint):\n",
    "    chars = [\"_\", \"o\", \"x\"]\n",
    "    hint_str = \"\".join([chars[idx] for idx in hint])\n",
    "    return hint_str"
   ]
  },
  {
   "cell_type": "code",
   "execution_count": 74,
   "id": "e1ea393c-740a-4606-bee6-67eda2ebbef9",
   "metadata": {},
   "outputs": [],
   "source": [
    "def str_to_hint(hint_str):\n",
    "    d = {'_':0, 'o':1, 'x':2}\n",
    "    hint = np.zeros(len(hint_str), dtype=int)\n",
    "    for i, c in enumerate(hint_str):\n",
    "        hint[i] = d[c]\n",
    "    return hint"
   ]
  },
  {
   "cell_type": "code",
   "execution_count": 75,
   "id": "4019ed49-6da3-4563-b926-37ede464ac96",
   "metadata": {},
   "outputs": [
    {
     "data": {
      "text/plain": [
       "'xo___'"
      ]
     },
     "execution_count": 75,
     "metadata": {},
     "output_type": "execute_result"
    }
   ],
   "source": [
    "hint_str = hint_to_str(example_hint)\n",
    "hint_str"
   ]
  },
  {
   "cell_type": "code",
   "execution_count": 76,
   "id": "bd3d4db9-96f7-4c90-a67f-569cda588ca2",
   "metadata": {},
   "outputs": [
    {
     "data": {
      "text/plain": [
       "array([2, 1, 0, 0, 0])"
      ]
     },
     "execution_count": 76,
     "metadata": {},
     "output_type": "execute_result"
    }
   ],
   "source": [
    "str_to_hint(hint_str)"
   ]
  },
  {
   "cell_type": "code",
   "execution_count": 77,
   "id": "a6514667-77e2-40a7-9f24-7b6ecf224e58",
   "metadata": {},
   "outputs": [],
   "source": [
    "def hint_to_num(hint, base=3):\n",
    "    hint_num = 0\n",
    "    factor = 1\n",
    "    for i, v in enumerate(hint):\n",
    "        hint_num += v * factor\n",
    "        factor *= base\n",
    "    return hint_num"
   ]
  },
  {
   "cell_type": "code",
   "execution_count": 78,
   "id": "d3ab0e59-46a3-4397-be51-2cad51616e92",
   "metadata": {},
   "outputs": [],
   "source": [
    "def num_to_hint(hint_num, base=3, sz=5):\n",
    "    hint = np.zeros(sz, dtype=int)\n",
    "    factor = base**(sz-1)\n",
    "    for i in range(sz-1, -1, -1):\n",
    "        digit = 0\n",
    "        while (hint_num >= digit * factor) and (digit < base): \n",
    "            digit += 1\n",
    "        hint[i] = digit - 1\n",
    "        hint_num -= (digit - 1) * factor\n",
    "        factor /= base\n",
    "    return hint"
   ]
  },
  {
   "cell_type": "code",
   "execution_count": 79,
   "id": "2b88917f-c405-4980-8c66-eaa830f4566d",
   "metadata": {},
   "outputs": [
    {
     "data": {
      "text/plain": [
       "5"
      ]
     },
     "execution_count": 79,
     "metadata": {},
     "output_type": "execute_result"
    }
   ],
   "source": [
    "hint_num = hint_to_num(example_hint)\n",
    "hint_num"
   ]
  },
  {
   "cell_type": "code",
   "execution_count": 80,
   "id": "5402f903-87b3-4b87-b750-f902acd077f7",
   "metadata": {},
   "outputs": [
    {
     "data": {
      "text/plain": [
       "array([2, 1, 0, 0, 0])"
      ]
     },
     "execution_count": 80,
     "metadata": {},
     "output_type": "execute_result"
    }
   ],
   "source": [
    "num_to_hint(hint_num)"
   ]
  },
  {
   "cell_type": "markdown",
   "id": "fcd23351-d53b-4f30-9a6c-fc03dbcb3cc9",
   "metadata": {},
   "source": [
    "Since constructing the hint for a particular word combination can become costly when done repeatitively, it is faster to pre-load a \"hint-matrix\" that stores the results of evaluating all possible guess and goal word combinations."
   ]
  },
  {
   "cell_type": "code",
   "execution_count": 81,
   "id": "f97ff576-d46d-41c4-b14c-d6ee5d1b9e2f",
   "metadata": {},
   "outputs": [],
   "source": [
    "def build_hint_matrix(vocab_list):\n",
    "    n_words = len(vocab_list)\n",
    "    hint_matrix = np.zeros((n_words, n_words), dtype=int)\n",
    "    \n",
    "    hint_dict = {}        \n",
    "    for i, guess_word in tqdm_notebook(enumerate(vocab_list), total=n_words):\n",
    "        for j, goal_word in enumerate(vocab_list):\n",
    "            hint = get_hint(guess_word, goal_word)\n",
    "            hint_bytes = hint.tobytes()\n",
    "            if hint_bytes not in hint_dict:\n",
    "                hint_dict[hint_bytes] = hint_to_num(hint)\n",
    "            hint_matrix[i,j] = hint_dict[hint_bytes]\n",
    "        \n",
    "    \n",
    "    return hint_matrix"
   ]
  },
  {
   "cell_type": "code",
   "execution_count": 82,
   "id": "d8557702-4684-403c-9ef5-26595b28c946",
   "metadata": {},
   "outputs": [],
   "source": [
    "def build_hint_matrix_fast(vocab_list, n_threads=2):\n",
    "    n_words = len(vocab_list)\n",
    "    hint_matrix = np.zeros((n_words, n_words), dtype=int)\n",
    "    \n",
    "    hint_dict = {}\n",
    "    def fill_rows(start, end):\n",
    "        for i, guess_word in tqdm_notebook(enumerate(vocab_list[start:end]), total=end-start):\n",
    "            for j, goal_word in enumerate(vocab_list):\n",
    "                hint = get_hint(guess_word, goal_word)\n",
    "                hint_bytes = hint.tobytes()\n",
    "                if hint_bytes not in hint_dict:\n",
    "                    hint_dict[hint_bytes] = hint_to_num(hint)\n",
    "                hint_matrix[start + i,j] = hint_dict[hint_bytes]\n",
    "                \n",
    "    section_sz = int(n_words / n_threads) + 1\n",
    "    threads = []\n",
    "    for start in range(0, n_words, section_sz):\n",
    "        end = start + section_sz if start + section_sz < n_words else n_words\n",
    "        t = threading.Thread(target=fill_rows, args=(start, end))\n",
    "        t.start()\n",
    "        \n",
    "    for t in threads:\n",
    "        t.join()\n",
    "    \n",
    "    return hint_matrix"
   ]
  },
  {
   "cell_type": "code",
   "execution_count": 83,
   "id": "88ae300e-b66f-4af6-beff-0cde9f0cc09e",
   "metadata": {
    "tags": []
   },
   "outputs": [
    {
     "data": {
      "application/vnd.jupyter.widget-view+json": {
       "model_id": "71947f6e7e4241b094ede8a1971fcf8c",
       "version_major": 2,
       "version_minor": 0
      },
      "text/plain": [
       "  0%|          | 0/12972 [00:00<?, ?it/s]"
      ]
     },
     "metadata": {},
     "output_type": "display_data"
    }
   ],
   "source": [
    "hint_matrix = build_hint_matrix(vocab_list)"
   ]
  },
  {
   "cell_type": "markdown",
   "id": "0adfa7b3-6c88-4a37-84dc-78609b66c38f",
   "metadata": {
    "tags": []
   },
   "source": [
    "## Calculating Word Entropy\n",
    "\n",
    "Each potential guess word is associated with a distribution of possible hints (assuming that we select a goal word uniformly at random). The simplest approach is to assign an entropy value to each guess word according to its hint distribution. A more sophisticated approach takes into account the distribution of entropies conditioned on each possible hint that could be recieved after guessing. We can perform this evaluation recursively in order to determine the expected entropy of a set of word choices rather than a single choice."
   ]
  },
  {
   "cell_type": "code",
   "execution_count": 87,
   "id": "58b506a9-7825-4f3d-9be2-cd602dfdf70d",
   "metadata": {},
   "outputs": [],
   "source": [
    "def get_entropies(hint_matrix, idxs=None, progress_bar=False):\n",
    "    idxs = np.arange(hint_matrix.shape[0]) if idxs is None else np.array(idxs)\n",
    "    entropies = np.zeros_like(idxs, dtype=float)\n",
    "    n_guesses = idxs.shape[0]\n",
    "    for i in tqdm_notebook(range(n_guesses)) if progress_bar else range(n_guesses):\n",
    "        curr_idx = idxs[i]\n",
    "        unique_hints, hint_counts = np.unique(hint_matrix[curr_idx], return_counts=True)\n",
    "        entropies[i] = entropy(hint_counts, base=2)\n",
    "\n",
    "    sorted_args = np.argsort(entropies)[::-1]\n",
    "    return idxs[sorted_args], entropies[sorted_args]"
   ]
  },
  {
   "cell_type": "code",
   "execution_count": 88,
   "id": "a609aa7b-fc14-4070-a8f4-1517e7611765",
   "metadata": {},
   "outputs": [
    {
     "data": {
      "application/vnd.jupyter.widget-view+json": {
       "model_id": "d18274c27fff4a19be4484f1f2382e35",
       "version_major": 2,
       "version_minor": 0
      },
      "text/plain": [
       "  0%|          | 0/12972 [00:00<?, ?it/s]"
      ]
     },
     "metadata": {},
     "output_type": "display_data"
    },
    {
     "data": {
      "text/plain": [
       "array([6.19405254, 6.14991874, 6.1143431 , ..., 1.97771464, 1.88653329,\n",
       "       1.88105052])"
      ]
     },
     "execution_count": 88,
     "metadata": {},
     "output_type": "execute_result"
    }
   ],
   "source": [
    "idxs, entropies = get_entropies(hint_matrix, progress_bar=True)\n",
    "entropies"
   ]
  },
  {
   "cell_type": "code",
   "execution_count": 89,
   "id": "5f8a81c9-6100-45fe-bc46-17ebd73dcf34",
   "metadata": {},
   "outputs": [
    {
     "name": "stdout",
     "output_type": "stream",
     "text": [
      " Word | Entropy (Base 2)\n",
      "------+-------------------\n",
      "tares | 6.194052544375467\n",
      "lares | 6.14991874245314\n",
      "rales | 6.114343099454239\n",
      "rates | 6.096242642514618\n",
      "teras | 6.076619177276194\n",
      "nares | 6.066830765753908\n",
      "soare | 6.061395399096273\n",
      "tales | 6.05498776140121\n",
      "reais | 6.049777632888339\n",
      "tears | 6.032338670239826\n",
      "arles | 6.029656532378534\n",
      "tores | 6.0182943721829965\n",
      "salet | 6.016842875398278\n",
      "aeros | 6.013480318472095\n",
      "dares | 6.010334729949025\n",
      "saner | 5.999263329266256\n",
      "reals | 5.999162055397679\n",
      "lears | 5.988782099885778\n",
      "lores | 5.976968564571484\n",
      "serai | 5.973617168039969\n",
      "lanes | 5.971303767248158\n",
      "laers | 5.968985947815154\n",
      "pares | 5.967345992114739\n",
      "cares | 5.9664061818171925\n",
      "tires | 5.963365144184288\n",
      "saine | 5.962649288084535\n",
      "seral | 5.953595576828316\n",
      "mares | 5.951777451541286\n",
      "reans | 5.950810301312482\n",
      "aloes | 5.944708752487158\n",
      "sared | 5.942603015777064\n",
      "roles | 5.941958662971253\n",
      "teals | 5.938324842377551\n",
      "aures | 5.9301547505576355\n",
      "earls | 5.926625009398865\n",
      "taels | 5.920944159469225\n",
      "raise | 5.919736842516208\n",
      "tries | 5.919202729460132\n",
      "rotes | 5.91723548269312\n",
      "sorel | 5.916675826748235\n",
      "leats | 5.912290462231849\n",
      "nears | 5.905220533834906\n",
      "toeas | 5.90502672688768\n",
      "strae | 5.897739659351562\n",
      "rones | 5.896162519599158\n",
      "nates | 5.895559211507829\n",
      "earns | 5.884742020852904\n",
      "taser | 5.883283096506951\n",
      "toles | 5.88262325620552\n",
      "dales | 5.882367241549508\n"
     ]
    }
   ],
   "source": [
    "print(f\" Word | Entropy (Base 2)\")\n",
    "print(f\"------+-------------------\")\n",
    "for i in range(min(50, idxs.shape[0])):\n",
    "    curr_idx = idxs[i]\n",
    "    w = vocab_list[curr_idx]\n",
    "    e = entropies[i]\n",
    "    print(f\"{w} | {e}\")"
   ]
  },
  {
   "cell_type": "code",
   "execution_count": 69,
   "id": "c33bfd0e-2378-4a72-9a8b-181ac5247ae3",
   "metadata": {
    "tags": []
   },
   "outputs": [],
   "source": [
    "def get_recursive_max_entropies(hint_matrix, idxs=None, max_depth=None, curr_depth=0, max_paths=None, progress_bar=False):\n",
    "    idxs = np.arange(hint_matrix.shape[0]) if idxs is None else np.array(idxs)\n",
    "    entropies = np.zeros_like(idxs, dtype=float)\n",
    "    n_guesses = idxs.shape[0]\n",
    "    n_solutions = hint_matrix.shape[1]\n",
    "    \n",
    "    if (max_depth is None) or (curr_depth < max_depth):\n",
    "        for i in tqdm_notebook(range(n_guesses)) if progress_bar else range(n_guesses):\n",
    "            curr_idx = idxs[i]\n",
    "            \n",
    "            unique_hints, hint_counts = np.unique(hint_matrix[idx], return_counts=True)\n",
    "            curr_entropy = entropy(hint_counts, base=2) # this is the unconditional entropy of the current guess word\n",
    "            \n",
    "            if curr_entropy == 0.: # this is the base-case if max_depth=None\n",
    "                entropies[i] = 0\n",
    "                \n",
    "            else:\n",
    "                max_entropies = np.zeros_like(unique_hints, dtype=float)\n",
    "                n_hints = unique_hints.shape[0]\n",
    "                for k in range(n_hints):\n",
    "                    print(f\"\\r~~~~~~~~~~ Evaluating branch {k + 1}/{n_hints} at a depth of {curr_depth + 1}/{max_depth} ~~~~~~~~~~\", end=\"\")\n",
    "                    hint = unique_hints[k] # assume that this is the hint received in response to our current guess word\n",
    "                    next_matrix = hint_matrix[:, hint_matrix[i] == hint] # takes only the columns of the hint matrix with viable goal words\n",
    "                    \n",
    "                    if max_paths is not None:\n",
    "                        next_idxs, next_entropies = get_entropies(next_matrix)\n",
    "                        next_idxs = next_idxs[:max_paths] # this limits the number of guess words that are explored\n",
    "\n",
    "                    _, rec_entropies = get_recursive_max_entropies(next_matrix, idxs=next_idxs, max_depth=max_depth, curr_depth=curr_depth+1, max_paths=max_paths)\n",
    "                    max_entropies[k] = np.max(rec_entropies)\n",
    "\n",
    "                entropies[i] = curr_entropy + np.sum(max_entropies * hint_counts / n_solutions)\n",
    "        \n",
    "        sorted_args = np.argsort(entropies)[::-1]\n",
    "        return idxs[sorted_args], entropies[sorted_args]\n",
    "    \n",
    "    return get_entropies(hint_matrix, idxs, progress_bar)"
   ]
  },
  {
   "cell_type": "code",
   "execution_count": null,
   "id": "7fe9f536-d014-4eac-8937-e3e20c9b944b",
   "metadata": {},
   "outputs": [
    {
     "data": {
      "application/vnd.jupyter.widget-view+json": {
       "model_id": "832580d134244548952a7dc3b835cb31",
       "version_major": 2,
       "version_minor": 0
      },
      "text/plain": [
       "  0%|          | 0/10 [00:00<?, ?it/s]"
      ]
     },
     "metadata": {},
     "output_type": "display_data"
    },
    {
     "name": "stdout",
     "output_type": "stream",
     "text": [
      "~~~~~~~~~~ Evaluating branch 1/188 at a depth of 1/1 ~~~~~~~~~~~~"
     ]
    }
   ],
   "source": [
    "rec_idxs, rec_entropies = get_recursive_max_entropies(hint_matrix, idxs[:10], max_depth=0, max_paths=10, progress_bar=True)"
   ]
  },
  {
   "cell_type": "code",
   "execution_count": null,
   "id": "7712cd47-dfcc-460d-ac78-3f97d00bcb0e",
   "metadata": {},
   "outputs": [],
   "source": [
    "print(f\" Word | Entropy (Base 2)\")\n",
    "print(f\"------+-------------------\")\n",
    "for i in range(min(50, rec_idxs.shape[0])):\n",
    "    curr_idx = rec_idxs[i]\n",
    "    w = vocab_list[curr_idx]\n",
    "    e = rec_entropies[i]\n",
    "    print(f\"{w} | {e}\")"
   ]
  },
  {
   "cell_type": "markdown",
   "id": "1f149913-6a44-4ae8-97d2-b1c6a14d84ba",
   "metadata": {},
   "source": [
    "## WORDLE REPL\n",
    "\n",
    "To make a interacting with this code a little easier, we can create repl to run while solving the wordle"
   ]
  },
  {
   "cell_type": "code",
   "execution_count": null,
   "id": "3c6dfc15-20e5-4a40-ad00-619e5b030cb9",
   "metadata": {},
   "outputs": [],
   "source": [
    "hint_matrix_cpy = hint_matrix.copy()\n",
    "\n",
    "GOAL_WORD = \"alter\"\n",
    "mode = \"suggesting\"\n",
    "remaining_words = np.arange(hint_matrix_cpy.shape[1])\n",
    "while True:\n",
    "    if mode == \"guessing\":\n",
    "        guess = input(\"Enter a guess word: \")\n",
    "        while guess not in vocab_list:\n",
    "            print(f\"\\\"{guess}\\\" is not in the vocab list, try another word\")\n",
    "            guess = input(\"Enter a guess word: \")\n",
    "        guess_idx = vocab_to_idx[guess]\n",
    "        mode = \"hinting\"\n",
    "    \n",
    "    if mode == \"hinting\":\n",
    "        if GOAL_WORD is None:\n",
    "            hint_str = input(\"Enter the resulting hint: \")    \n",
    "            hint = str_to_hint(hint_str)\n",
    "        else:\n",
    "            hint = get_hint(guess, GOAL_WORD)\n",
    "            print(f\"The hint is \\\"{hint_to_str(hint)}\\\"\")\n",
    "        hint_num = hint_to_num(hint)\n",
    "        viable_idxs = hint_matrix_cpy[guess_idx] == hint_num\n",
    "        hint_matrix_cpy = hint_matrix_cpy[:, viable_idxs]\n",
    "        remaining_words = remaining_words[viable_idxs]\n",
    "        mode = \"suggesting\"\n",
    "        print()\n",
    "    \n",
    "    if mode == \"suggesting\":\n",
    "        idxs, entropies = get_entropies(hint_matrix_cpy)\n",
    "        if remaining_words.shape[0] == 1:\n",
    "            remaining_word = vocab_list[remaining_words[0]]\n",
    "            print(f\"The goal word is \\\"{remaining_word}\\\"\")\n",
    "            break\n",
    "        else:\n",
    "            print(\"Here are best guess words\")\n",
    "            print()\n",
    "            print(f\" Word | Entropy (Base 2)\")\n",
    "            print(f\"------+-------------------\")\n",
    "            for i in range(min(30, idxs.shape[0])):\n",
    "                curr_idx = idxs[i]\n",
    "                w = vocab_list[curr_idx]\n",
    "                e = entropies[i]\n",
    "                print(f\"{w} | {e:.4f}\")\n",
    "            print()\n",
    "        mode = \"guessing\""
   ]
  },
  {
   "cell_type": "code",
   "execution_count": null,
   "id": "ab241794-862f-4b66-9c95-3949f64fc485",
   "metadata": {},
   "outputs": [],
   "source": []
  }
 ],
 "metadata": {
  "kernelspec": {
   "display_name": "Python 3 (ipykernel)",
   "language": "python",
   "name": "python3"
  },
  "language_info": {
   "codemirror_mode": {
    "name": "ipython",
    "version": 3
   },
   "file_extension": ".py",
   "mimetype": "text/x-python",
   "name": "python",
   "nbconvert_exporter": "python",
   "pygments_lexer": "ipython3",
   "version": "3.9.12"
  }
 },
 "nbformat": 4,
 "nbformat_minor": 5
}
