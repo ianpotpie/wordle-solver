{
 "cells": [
  {
   "cell_type": "markdown",
   "id": "b6ce85f8-d5d9-4703-a18b-03007d52f7df",
   "metadata": {
    "tags": []
   },
   "source": [
    "# Wordle Solver\n",
    "\n",
    "Wordle is an online word-guessing game where the player has six chances to guess a 5-letter answer word. After each guess, a hint is provided based on the letters of the guess word and the letters of the answer word. This jupyter notebook implements a simple strategy for guessing each word based on information theory. This strategy ranks potential guesses by calculating their entropy relative to the distribution of hints that would result from a uniform sampling of each answer word."
   ]
  },
  {
   "cell_type": "code",
   "execution_count": 1,
   "id": "c3c5980e-26cb-449e-8783-bf62f77d7dd2",
   "metadata": {},
   "outputs": [
    {
     "name": "stderr",
     "output_type": "stream",
     "text": [
      "/home/ianpotpie/.anaconda3/lib/python3.9/site-packages/scipy/__init__.py:146: UserWarning: A NumPy version >=1.16.5 and <1.23.0 is required for this version of SciPy (detected version 1.23.5\n",
      "  warnings.warn(f\"A NumPy version >={np_minversion} and <{np_maxversion}\"\n"
     ]
    }
   ],
   "source": [
    "import numpy as np\n",
    "import pandas as pd\n",
    "from collections import Counter, defaultdict\n",
    "from tqdm.notebook import tqdm_notebook\n",
    "from scipy.stats import entropy"
   ]
  },
  {
   "cell_type": "code",
   "execution_count": 2,
   "id": "da5f6c63-45b7-4479-8a22-7cc83d5d7bc1",
   "metadata": {},
   "outputs": [],
   "source": [
    "# these files contain all the guess and answer words (the guess files should include all words in answer files)\n",
    "\n",
    "GUESS_VOCAB = [\"data/wordle-guesses.txt\", \"data/wordle-answers.txt\"]\n",
    "ANSWER_VOCAB = [\"data/wordle-answers.txt\"]"
   ]
  },
  {
   "cell_type": "code",
   "execution_count": 3,
   "id": "322e6060-a87c-4d4b-a7cf-8c111524fbda",
   "metadata": {},
   "outputs": [],
   "source": [
    "def load_vocab(*filepaths):\n",
    "    \"\"\"\n",
    "    Loads a list of words from a file or set of files into a single list and a mapping of words to their index in the list.\n",
    "    \n",
    "    :param filepaths: a list of filepaths to text files containing vocab words\n",
    "    :return: a list of vocab words and a mapping from words to their index in the list\n",
    "    \"\"\"\n",
    "    \n",
    "    vocab = set()\n",
    "    for filepath in filepaths:\n",
    "        with open(filepath) as f:\n",
    "            for line in f:\n",
    "                vocab.add(line.strip().upper())\n",
    "            \n",
    "    vocab_list = sorted(vocab)\n",
    "    vocab_to_idx = {w:i for i, w in enumerate(vocab_list)}\n",
    "    \n",
    "    return vocab_list, vocab_to_idx"
   ]
  },
  {
   "cell_type": "code",
   "execution_count": 4,
   "id": "52f259e7-cfa8-4261-b69a-290f95ccfc23",
   "metadata": {},
   "outputs": [
    {
     "name": "stdout",
     "output_type": "stream",
     "text": [
      "12972 guess words\n",
      "2315 answer words\n"
     ]
    }
   ],
   "source": [
    "guess_list, guess_to_idx = load_vocab(*GUESS_VOCAB)\n",
    "answer_list, answer_to_idx = load_vocab(*ANSWER_VOCAB)\n",
    "\n",
    "print(f\"{len(guess_list)} guess words\")\n",
    "print(f\"{len(answer_list)} answer words\")"
   ]
  },
  {
   "attachments": {
    "19c71925-42c4-484a-a132-daf65c7be4a1.png": {
     "image/png": "[encoded data removed]"
    },
    "747b4fb2-1ae9-487a-8bbf-18d5e0ec5c4b.png": {
     "image/png": "[encoded data removed]"
    },
    "7de42a4b-b710-462f-87b7-0f204d7fb9d3.png": {
     "image/png": "[encoded data removed]"
    }
   },
   "cell_type": "markdown",
   "id": "bd4c9ced-2b25-4d44-83bd-fba1a982fc58",
   "metadata": {},
   "source": [
    "## Hints\n",
    "\n",
    "Once a guess word is submitted, wordle will return a hint that provides information about the letters in the answer word.\n",
    "\n",
    "A letter of the guess word will be colored green if the letter is in the answer word and is in the correct position.\n",
    "\n",
    "![image.png](attachment:19c71925-42c4-484a-a132-daf65c7be4a1.png)\n",
    "\n",
    "A letter of the guess word will be colored yellow if the letter is in the answer word but is in the incorrect position.\n",
    "\n",
    "![image.png](attachment:7de42a4b-b710-462f-87b7-0f204d7fb9d3.png)\n",
    "\n",
    "A letter of the guess word will be colored grey if the letter is not in the answer word.\n",
    "\n",
    "![image.png](attachment:747b4fb2-1ae9-487a-8bbf-18d5e0ec5c4b.png)\n",
    "\n",
    "**Note** - A letter may also be colored grey if it appears $n$ times in the answer word and it is the $i$th occurence of the letter in the guess word where $i > n$.\n",
    "\n",
    "### String Representation\n",
    "\n",
    "For the purpose of our implementation, we would like a emthod for representing wordle hints in a text format.\n",
    "\n",
    "1. A grey letter at position $i$ will be indicated with an '_' at position $i$ of the hint text.\n",
    "\n",
    "2. A yellow letter at position $i$ will be indicated with an 'O' at position $i$ of the hint text.\n",
    "\n",
    "3. A green letter at position $i$ will be indicated with an 'X' at position $i$ of the hint text.\n",
    "\n",
    "### Numerical Representation\n",
    "\n",
    "We would also like an intermendiate representation with a unique numerical value for each hint, a \"hint ID\". We can construct a 5-digit base-3 number with the following rules:\n",
    "\n",
    "1. The $i$th digit of the hint ID will be 0 if the hint has a grey letter at position $i$\n",
    "\n",
    "2. The $i$th digit of the hint ID will be 1 if the hint has a yellow letter at position $i$\n",
    "\n",
    "3. The $i$th digit of the hint ID will be 2 if the hint has a green letter at position $i$"
   ]
  },
  {
   "cell_type": "code",
   "execution_count": 5,
   "id": "1c70ecab-88a9-495b-9120-8bb60b55bb8d",
   "metadata": {},
   "outputs": [],
   "source": [
    "def get_hint(guess, answer):\n",
    "    \"\"\"\n",
    "    Build the numerical base-3 representation of the hint based by adding consecutive digits.\n",
    "    \n",
    "    :param guess: a 5-letter guess word\n",
    "    :param answer: a 5-letter answer word\n",
    "    :return: an integer representing the hint resulting from comparing the guess word to the answer word\n",
    "    \"\"\"\n",
    "    \n",
    "    hint = 0\n",
    "    answer_counts = Counter(answer)\n",
    "    for guess_char, answer_char in zip(guess, answer):\n",
    "        hint *= 3        \n",
    "        \n",
    "        # we don't need to include the \"hint += 0\" case since it leaves \"hint\" unchanged   \n",
    "        if answer_counts[guess_char] > 0:\n",
    "            answer_counts[guess_char] -= 1\n",
    "            \n",
    "            if guess_char != answer_char:\n",
    "                hint += 1\n",
    "            else:\n",
    "                hint += 2        \n",
    "\n",
    "    return hint"
   ]
  },
  {
   "cell_type": "code",
   "execution_count": 6,
   "id": "7e681fb5-5553-4c1a-b019-7e60ef877b47",
   "metadata": {},
   "outputs": [
    {
     "data": {
      "text/plain": [
       "'21000'"
      ]
     },
     "execution_count": 6,
     "metadata": {},
     "output_type": "execute_result"
    }
   ],
   "source": [
    "example_hint = get_hint(\"aroma\", \"alter\")\n",
    "np.base_repr(example_hint, base=3) # this displays the number in base-3"
   ]
  },
  {
   "cell_type": "code",
   "execution_count": 7,
   "id": "cf717ad0-1ad1-4391-ab30-8eb00b298487",
   "metadata": {},
   "outputs": [],
   "source": [
    "def hint_to_str(hint):\n",
    "    \"\"\"\n",
    "    Converts a numerical hint representation to a string representation.\n",
    "    \n",
    "    :param hint: a hint as an integer\n",
    "    :return: a string representation of the input hint\n",
    "    \"\"\"\n",
    "    \n",
    "    chars = [\"_\", \"O\", \"X\"]\n",
    "    base_3_repr = np.base_repr(hint, base=3)\n",
    "    base_3_repr = (max(0, 5 - len(base_3_repr)) * \"0\") + base_3_repr # pad the number with extra zeros\n",
    "    digits = [int(digit) for digit in base_3_repr]\n",
    "    hint_str = \"\".join(chars[digit] for digit in digits)\n",
    "    return hint_str"
   ]
  },
  {
   "cell_type": "code",
   "execution_count": 8,
   "id": "e1ea393c-740a-4606-bee6-67eda2ebbef9",
   "metadata": {},
   "outputs": [],
   "source": [
    "def str_to_hint(hint_str):\n",
    "    \"\"\"\n",
    "    Converts a string hint representation to a numerical representation.\n",
    "    \n",
    "    :param hint_str: a hint as a string\n",
    "    :return: the numerical representation of hint_str\n",
    "    \"\"\"\n",
    "    \n",
    "    hint = 0\n",
    "    for char in hint_str:\n",
    "        hint *= 3\n",
    "        \n",
    "        if char == 'O':\n",
    "            hint += 1\n",
    "        \n",
    "        if char == 'X':\n",
    "            hint += 2\n",
    "        \n",
    "        # we don't need to include the \"hint += 0\" case since it leaves \"hint\" unchanged\n",
    "    \n",
    "    return hint"
   ]
  },
  {
   "cell_type": "code",
   "execution_count": 9,
   "id": "4019ed49-6da3-4563-b926-37ede464ac96",
   "metadata": {},
   "outputs": [
    {
     "data": {
      "text/plain": [
       "'XO___'"
      ]
     },
     "execution_count": 9,
     "metadata": {},
     "output_type": "execute_result"
    }
   ],
   "source": [
    "hint_str = hint_to_str(example_hint)\n",
    "hint_str"
   ]
  },
  {
   "cell_type": "code",
   "execution_count": 10,
   "id": "bd3d4db9-96f7-4c90-a67f-569cda588ca2",
   "metadata": {},
   "outputs": [
    {
     "data": {
      "text/plain": [
       "'21000'"
      ]
     },
     "execution_count": 10,
     "metadata": {},
     "output_type": "execute_result"
    }
   ],
   "source": [
    "example_hint = str_to_hint(hint_str)\n",
    "np.base_repr(example_hint, base=3) # this displays the number in base-3"
   ]
  },
  {
   "cell_type": "markdown",
   "id": "fcd23351-d53b-4f30-9a6c-fc03dbcb3cc9",
   "metadata": {},
   "source": [
    "### Hint Array\n",
    "\n",
    "Since building the hint for a particular guess-answer combination can become costly when done repeatitively, it is faster to pre-load a \"hint array\" that stores the results of evaluating all possible guess and answer word combinations.\n",
    "\n",
    "Additionally, in \"hard mode\" wordle does not allow the player to guess a word which doesn't fit the criteria of the previous hints. It is therefore useful to also construct a guess-to-guess hint array for determining which guesses are still viable."
   ]
  },
  {
   "cell_type": "code",
   "execution_count": 11,
   "id": "f97ff576-d46d-41c4-b14c-d6ee5d1b9e2f",
   "metadata": {},
   "outputs": [],
   "source": [
    "def build_hint_array(guess_list=None, answer_list=None, save_path=None):\n",
    "    \"\"\"\n",
    "    Constructs an 2D array of hint values based on a list of guess words and a list of answer words. \n",
    "    The hint value at location (i, j) of the array is the hint that results from the ith guess word and jth answer word in their respective lists.\n",
    "    \n",
    "    :param guess_list: a list of guess words\n",
    "    :param answer_list: a list of answer words\n",
    "    :param save_path: if not None, then the filepath to a save file where the matrix can be saved\n",
    "    :return: an array of hint values (integers)\n",
    "    \"\"\"\n",
    "    \n",
    "    n_guesses, n_answers = len(guess_list), len(answer_list)\n",
    "    hint_array = np.zeros((n_guesses, n_answers), dtype=int)\n",
    "\n",
    "    for i in tqdm_notebook(range(n_guesses)):\n",
    "        guess = guess_list[i]\n",
    "        for j in range(n_answers):\n",
    "            answer = answer_list[j]\n",
    "            hint_array[i,j] = get_hint(guess, answer)\n",
    "    \n",
    "    if save_path is not None:\n",
    "        np.save(save_path, hint_matrix)\n",
    "    \n",
    "    return hint_matrix"
   ]
  },
  {
   "cell_type": "code",
   "execution_count": 12,
   "id": "4ed33511-138e-4f20-8743-17a197715b0d",
   "metadata": {},
   "outputs": [],
   "source": [
    "# This is the location where we will cache the hint array(s)\n",
    "\n",
    "GUESS_ANSWER_HINTS = \"data/guess-answer-hints.npy\" # this stores the hint array between guess and answer words\n",
    "GUESS_GUESS_HINTS = \"data/guess-guess-hints.npy\" # this stores the hint array between guess words (and other guess words)"
   ]
  },
  {
   "cell_type": "code",
   "execution_count": 13,
   "id": "88ae300e-b66f-4af6-beff-0cde9f0cc09e",
   "metadata": {
    "tags": []
   },
   "outputs": [
    {
     "data": {
      "text/plain": [
       "(12972, 2315)"
      ]
     },
     "execution_count": 13,
     "metadata": {},
     "output_type": "execute_result"
    }
   ],
   "source": [
    "# here we calculate the hint array between guess and answer words\n",
    "\n",
    "# guess_answer_hints = build_hint_array(guess_list, answer_list, GUESS_ANSWER_HINTS) # uncomment this line to make a new guess-answer-hints.npy file\n",
    "guess_answer_hints = np.load(GUESS_ANSWER_HINTS)\n",
    "guess_answer_hints.shape"
   ]
  },
  {
   "cell_type": "code",
   "execution_count": 14,
   "id": "0b414e1f-568f-4b98-88b5-1f02fab29ae6",
   "metadata": {},
   "outputs": [
    {
     "data": {
      "text/plain": [
       "(12972, 12972)"
      ]
     },
     "execution_count": 14,
     "metadata": {},
     "output_type": "execute_result"
    }
   ],
   "source": [
    "# for hard mode it is easier to have a guess-to-guess hint matrix in order to eliminate non-viable guesses\n",
    "\n",
    "# gg_hint_array = build_hint_array(guess_list, guess_list, GUESS_GUESS_HINTS) # uncomment this line to make a new guess-guess-hints.npy file\n",
    "guess_guess_hints = np.load(GUESS_GUESS_HINTS)\n",
    "guess_guess_hints.shape"
   ]
  },
  {
   "cell_type": "markdown",
   "id": "0adfa7b3-6c88-4a37-84dc-78609b66c38f",
   "metadata": {
    "tags": []
   },
   "source": [
    "## Calculating Word Entropy\n",
    "\n",
    "Given a guess word, $g$, there is an associated distribution of hints that result from evaluating the guess word with all possible answer words (we will assume that an answer word is chosen uniformly at random). If a hint $h$ appears $k_h$ times in a $g$'s distribution, then recieving $k_h$ narrows down the set of answer words to $k_h$ possibilities.\n",
    "\n",
    "In the extreme case where $k_h=1$ for all hints for all hints that can result from $g$, then entering $g$ will immediately reveal the answer word. On the opposite extreme, all possible hints are the same, then receiving that hint will reveal no information about the answer word.\n",
    "\n",
    "The size of $k_h$ alone does not tell us if $h$ is a \"good\" or \"bad\" hint, instead it is more useful to know its proportion relative to the total number of number of potential hints. This is the same as the number of answer words, since there is a hint for each answer. Let $n$ be the number of hints/answer words.\n",
    "\n",
    "Then $p_h = \\frac{k_h}{n}$ is both the probability of recieving a pariticular hint, and a measurement of how much it will narrow down the set of possible answers. In other words, $p_h$ is inversely proportional to how informative a hint is, or how much information it carries.\n",
    "\n",
    "We say that an event that occurs with probability $p$ has information $I$ where:\n",
    "\n",
    "$$\n",
    "I = -\\log(p)\n",
    "$$\n",
    "\n",
    "The expected information recieved from a distribution of events is called the entropy of a distribution:\n",
    "\n",
    "$$\n",
    "H = \\sum_{i=1} p_i I_i = - \\sum_{i=1}^n p_i \\log(p_i)\n",
    "$$\n",
    "\n",
    "The events with which we are concerned are the hints recieved after making a guess. We would like to maximize the expected information that we will recieve from a particular hint after making a guess. We therefore want to find the guess word with the hint distribution that has the higher entropy."
   ]
  },
  {
   "cell_type": "code",
   "execution_count": 15,
   "id": "d194b7d8-6ea5-466a-a1f3-2bf46cb71935",
   "metadata": {},
   "outputs": [],
   "source": [
    "def sort_by_entropy(guess_idxs, entropies):\n",
    "    sorted_args = np.argsort(entropies)[::-1]\n",
    "    return guess_idxs[sorted_args], entropies[sorted_args]"
   ]
  },
  {
   "cell_type": "code",
   "execution_count": 16,
   "id": "09f58515-637f-46b2-974e-c7a856194ce5",
   "metadata": {},
   "outputs": [],
   "source": [
    "def get_entropies(guess_answer_hints, guess_idxs=None):\n",
    "    n_guesses = guess_answer_hints.shape[0] if guess_idxs is None else guess_idxs.shape[0]\n",
    "    guess_idxs = np.arange(n_guesses) if guess_idxs is None else guess_idxs\n",
    "    \n",
    "    entropies = np.zeros(n_guesses, dtype=float)\n",
    "    for i in range(n_guesses):\n",
    "        guess_idx = guess_idxs[i]\n",
    "        hints = guess_answer_hints[guess_idx]\n",
    "        hint_counts = np.bincount(hints)\n",
    "        entropies[i] = entropy(hint_counts)\n",
    "    \n",
    "    return guess_idxs, entropies"
   ]
  },
  {
   "cell_type": "code",
   "execution_count": 17,
   "id": "a609aa7b-fc14-4070-a8f4-1517e7611765",
   "metadata": {},
   "outputs": [
    {
     "data": {
      "text/plain": [
       "array([4.07983666, 4.0776319 , 4.07425653, ..., 1.32893772, 1.23355995,\n",
       "       1.17904679])"
      ]
     },
     "execution_count": 17,
     "metadata": {},
     "output_type": "execute_result"
    }
   ],
   "source": [
    "guess_idxs, entropies = get_entropies(guess_answer_hints)\n",
    "guess_idxs, entropies = sort_by_entropy(guess_idxs, entropies)\n",
    "entropies"
   ]
  },
  {
   "cell_type": "code",
   "execution_count": 18,
   "id": "bee78ead-2887-49d4-add5-65fc951c9377",
   "metadata": {
    "tags": []
   },
   "outputs": [],
   "source": [
    "def display_guess_entropies(guess_idxs, guess_list, entropies, cutoff=20, base=2):\n",
    "    guess_idxs, entropies = sort_by_entropy(guess_idxs, entropies)\n",
    "    entropies = entropies / np.log(base)\n",
    "    n_guesses = guess_idxs.shape[0]\n",
    "    print(f\"Here are the {min(cutoff, n_guesses)} guesses with the highest entropies\\n\")\n",
    "    print(f\" Word | Entropy (Base {'e' if None else base})\")\n",
    "    print(f\"------|--------------------\")\n",
    "    for i in range(min(cutoff, n_guesses)):\n",
    "        guess_idx = guess_idxs[i]\n",
    "        guess = guess_list[guess_idx]\n",
    "        entropy_val = entropies[i]\n",
    "        print(f\"{guess} | {entropy_val:0.5f}\")\n",
    "    print()"
   ]
  },
  {
   "cell_type": "code",
   "execution_count": 19,
   "id": "5f8a81c9-6100-45fe-bc46-17ebd73dcf34",
   "metadata": {},
   "outputs": [
    {
     "name": "stdout",
     "output_type": "stream",
     "text": [
      "Here are the 20 guesses with the highest entropies\n",
      "\n",
      " Word | Entropy (Base 2)\n",
      "------|--------------------\n",
      "SOARE | 5.88596\n",
      "ROATE | 5.88278\n",
      "RAISE | 5.87791\n",
      "RAILE | 5.86571\n",
      "REAST | 5.86546\n",
      "SLATE | 5.85578\n",
      "CRATE | 5.83487\n",
      "SALET | 5.83458\n",
      "IRATE | 5.83140\n",
      "TRACE | 5.83055\n",
      "ARISE | 5.82094\n",
      "ORATE | 5.81716\n",
      "STARE | 5.80728\n",
      "CARTE | 5.79456\n",
      "RAINE | 5.78671\n",
      "CARET | 5.77671\n",
      "ARIEL | 5.77517\n",
      "TALER | 5.77061\n",
      "CARLE | 5.77048\n",
      "SLANE | 5.77018\n",
      "\n"
     ]
    }
   ],
   "source": [
    "display_guess_entropies(guess_idxs, guess_list, entropies)"
   ]
  },
  {
   "cell_type": "markdown",
   "id": "9507d6d4-01a1-4c13-a586-1345dfda8aad",
   "metadata": {},
   "source": [
    "### Recursive Entropy\n",
    "\n",
    "Although the unconditional entropy of each guess word is a good indicator for how it will perform, the unconditional entropy only evaluates how well a guess will narrow down the set of solution words. It is possible that an initial guess word with a high entropy will result in all second guess-words having a low entropy. Therefore, rather than solely maximizing the entropy of the initial guess word, it is even more optimal to evaluate the joint entropy of a series of guesses. The entropy of each successive guess is conditioned on the the previous guesses and the entropies are summed in order to get the joint entropy.\n",
    "\n",
    "This relationship is illustrated with the following equation;\n",
    "\n",
    "$$\n",
    "H(g_1, g_2, ..., g_k) = H(g_1) + H(g_2 | g_1) + H(g_3 | g_1, g_2) + ... + H(g_k | g_1, ..., g_{k-1})\n",
    "$$"
   ]
  },
  {
   "cell_type": "code",
   "execution_count": 20,
   "id": "c33bfd0e-2378-4a72-9a8b-181ac5247ae3",
   "metadata": {
    "tags": []
   },
   "outputs": [],
   "source": [
    "def get_joint_entropies(guess_answer_hints, guess_idxs=None, max_depth=None, curr_depth=0, guess_guess_hints=None, progress_bar=False):\n",
    "    guess_idxs, entropies = get_entropies(guess_answer_hints, guess_idxs) # these are the initial unconditional entropies of each word\n",
    "    n_guesses, n_answers = guess_idxs.shape[0], guess_answer_hints.shape[1]\n",
    "    \n",
    "    if (max_depth is None) or (curr_depth < max_depth):\n",
    "        for i in tqdm_notebook(range(n_guesses)) if progress_bar else range(n_guesses):\n",
    "            guess_idx = guess_idxs[i]\n",
    "            hints = guess_answer_hints[guess_idx]\n",
    "            hints, hint_counts = np.unique(hints, return_counts=True)\n",
    "            hint_distribution = hint_counts / n_answers\n",
    "            n_hints = hints.shape[0]\n",
    "\n",
    "            best_conditioned_entropies = np.zeros(n_hints, dtype=float)\n",
    "            for j in range(n_hints):\n",
    "                print(f\"\\r~~~~~~~~~~ Evaluating hint {j+1}/{n_hints} at depth {curr_depth+1}/{max_depth} ~~~~~~~~~~\", end=\"\")\n",
    "                hint = hints[j] # assume that this is the hint received in response to our current guess word\n",
    "                \n",
    "                possible_answers = (guess_answer_hints[guess_idx] == hint)\n",
    "                nxt_guess_answer_hints = guess_answer_hints[:, possible_answers]\n",
    "\n",
    "                nxt_guess_guess_hints, nxt_guess_idxs = None, None\n",
    "                if guess_guess_hints is not None: # if a guess-guess hint matrix is passed then we assume that we are in hard mode\n",
    "                    possible_guesses = (guess_guess_hints[guess_idx] == hint)\n",
    "                    nxt_guess_idxs = guess_idxs[possible_guesses]\n",
    "                    nxt_guess_guess_hints = guess_guess_hints[:, possible_guesses]\n",
    "                    \n",
    "                _, conditioned_entropies = get_joint_entropies(nxt_guess_answer_hints, nxt_guess_idxs, max_depth, curr_depth+1, nxt_guess_guess_hints)\n",
    "                best_conditioned_entropies[j] = 0. if conditioned_entropies.shape[0] == 0 else np.max(conditioned_entropies)\n",
    "\n",
    "            entropies[i] += np.sum(best_conditioned_entropies * hint_distribution)\n",
    "    \n",
    "    return guess_idxs, entropies"
   ]
  },
  {
   "cell_type": "code",
   "execution_count": 57,
   "id": "7fe9f536-d014-4eac-8937-e3e20c9b944b",
   "metadata": {},
   "outputs": [
    {
     "data": {
      "application/vnd.jupyter.widget-view+json": {
       "model_id": "734f841b1fbc424d86fc736984a74ff6",
       "version_major": 2,
       "version_minor": 0
      },
      "text/plain": [
       "  0%|          | 0/30 [00:00<?, ?it/s]"
      ]
     },
     "metadata": {},
     "output_type": "display_data"
    },
    {
     "name": "stdout",
     "output_type": "stream",
     "text": [
      "~~~~~~~~~~ Evaluating hint 131/131 at depth 1/1 ~~~~~~~~~~"
     ]
    }
   ],
   "source": [
    "# TODO: receive an error when increasing the depth\n",
    "\n",
    "best_guess_idxs = guess_idxs[:30]\n",
    "best_guess_idxs, joint_entropies = get_joint_entropies(guess_answer_hints, guess_guess_hints, best_guess_idxs, max_depth=1, progress_bar=True)"
   ]
  },
  {
   "cell_type": "code",
   "execution_count": 60,
   "id": "7712cd47-dfcc-460d-ac78-3f97d00bcb0e",
   "metadata": {},
   "outputs": [
    {
     "name": "stdout",
     "output_type": "stream",
     "text": [
      "Here are the 20 guesses with the highest entropies\n",
      "\n",
      " Word | Entropy (Base 2)\n",
      "------|--------------------\n",
      "ALERT | 9.23453\n",
      "EARST | 9.13913\n",
      "TASER | 9.05613\n",
      "LEAST | 9.01524\n",
      "ARTEL | 8.57525\n",
      "CARSE | 8.45904\n",
      "STARE | 8.42544\n",
      "RAILE | 8.39177\n",
      "RAISE | 8.38134\n",
      "SALET | 8.36213\n",
      "SOARE | 8.35057\n",
      "CARET | 8.33438\n",
      "ARISE | 8.30940\n",
      "RAINE | 8.26716\n",
      "ORATE | 8.25438\n",
      "SLATE | 8.23891\n",
      "IRATE | 8.23219\n",
      "STRAE | 8.22238\n",
      "CARTE | 8.22083\n",
      "CARLE | 8.15705\n"
     ]
    }
   ],
   "source": [
    "display_guess_entropies(best_guess_idxs, guess_list, joint_entropies)"
   ]
  },
  {
   "cell_type": "markdown",
   "id": "1f149913-6a44-4ae8-97d2-b1c6a14d84ba",
   "metadata": {},
   "source": [
    "## WORDLE REPL\n",
    "\n",
    "To make a interacting with this code a little easier, we can create repl to run while solving the wordle. Since the recursive calculation of the joint entropies is slow we are only using the unconditional entropy of the initial guess word."
   ]
  },
  {
   "cell_type": "code",
   "execution_count": 20,
   "id": "847ae9e3-8704-488d-9214-7e1964c538b4",
   "metadata": {},
   "outputs": [],
   "source": [
    "def validate_guess(guess, guess_to_idx, remaining_guesses, hard_mode):\n",
    "    if len(guess) != 5:\n",
    "        print(f\"\\\"{guess}\\\" has length {len(guess)}, but wordle requires guesses of length 5\")\n",
    "        return False\n",
    "    \n",
    "    if not guess.isalpha():\n",
    "        print(f\"\\\"{guess}\\\" contains non-alphabetic characters, try another word\")\n",
    "        return False\n",
    "    \n",
    "    if guess not in guess_to_idx:\n",
    "        print(f\"\\\"{guess}\\\" is not in list of guess words, try another word\")\n",
    "        return False\n",
    "    \n",
    "    if (guess_to_idx[guess] not in remaining_guesses) and hard_mode:\n",
    "        print(f\"wordle is in hard mode and previous hints disqualify \\\"{guess}\\\"\")\n",
    "        return False\n",
    "    \n",
    "    return True"
   ]
  },
  {
   "cell_type": "code",
   "execution_count": 21,
   "id": "8fcee101-94c4-44a5-8ab0-7e1175d91171",
   "metadata": {},
   "outputs": [],
   "source": [
    "def validate_hint(hint_str, possible_hints):\n",
    "    if len(hint_str) != 5:\n",
    "        print(f\"This hint has a length of {len(hint_str)}, but valid hints have a length of 5\")\n",
    "        return False\n",
    "    \n",
    "    valid_chars = [\"_\", \"O\", \"X\"]\n",
    "    for char in hint_str:\n",
    "        if char not in valid_chars:\n",
    "            print(f\"{char} is not a valid hint character {{\\\"_\\\", \\\"X\\\", \\\"O\\\"}}\")\n",
    "            return False\n",
    "        \n",
    "    if str_to_hint(hint_str) not in possible_hints:\n",
    "        print(f\"This hint is not possible given the game state and potential answer words\")\n",
    "        return False\n",
    "    \n",
    "    return True"
   ]
  },
  {
   "cell_type": "code",
   "execution_count": 25,
   "id": "3c6dfc15-20e5-4a40-ad00-619e5b030cb9",
   "metadata": {},
   "outputs": [
    {
     "name": "stdout",
     "output_type": "stream",
     "text": [
      "Here are the 20 guesses with the highest entropies\n",
      "\n",
      " Word | Entropy (Base 2)\n",
      "------|--------------------\n",
      "SOARE | 5.88596\n",
      "ROATE | 5.88278\n",
      "RAISE | 5.87791\n",
      "RAILE | 5.86571\n",
      "REAST | 5.86546\n",
      "SLATE | 5.85578\n",
      "CRATE | 5.83487\n",
      "SALET | 5.83458\n",
      "IRATE | 5.83140\n",
      "TRACE | 5.83055\n",
      "ARISE | 5.82094\n",
      "ORATE | 5.81716\n",
      "STARE | 5.80728\n",
      "CARTE | 5.79456\n",
      "RAINE | 5.78671\n",
      "CARET | 5.77671\n",
      "ARIEL | 5.77517\n",
      "TALER | 5.77061\n",
      "CARLE | 5.77048\n",
      "SLANE | 5.77018\n",
      "\n"
     ]
    },
    {
     "name": "stdin",
     "output_type": "stream",
     "text": [
      "Enter a guess word:  soare\n"
     ]
    },
    {
     "name": "stdout",
     "output_type": "stream",
     "text": [
      "The hint is \"____X\"\n",
      "\n",
      "Here are the 20 guesses with the highest entropies\n",
      "\n",
      " Word | Entropy (Base 2)\n",
      "------|--------------------\n",
      "TUILE | 4.68492\n",
      "GUILE | 4.53567\n",
      "UTILE | 4.50279\n",
      "ELITE | 4.37601\n",
      "TILDE | 4.29589\n",
      "LIGNE | 4.22052\n",
      "NUDIE | 4.21959\n",
      "EIGNE | 4.21917\n",
      "CUTIE | 4.21602\n",
      "DEICE | 4.20225\n",
      "TINGE | 4.20182\n",
      "EDILE | 4.19749\n",
      "TENUE | 4.19705\n",
      "CLINE | 4.19122\n",
      "MULIE | 4.14364\n",
      "DULCE | 4.14172\n",
      "LIEGE | 4.13156\n",
      "CHILE | 4.13090\n",
      "DIENE | 4.12987\n",
      "ELIDE | 4.12155\n",
      "\n"
     ]
    },
    {
     "name": "stdin",
     "output_type": "stream",
     "text": [
      "Enter a guess word:  tuile\n"
     ]
    },
    {
     "name": "stdout",
     "output_type": "stream",
     "text": [
      "The hint is \"_O_OX\"\n",
      "\n",
      "Here are the 8 guesses with the highest entropies\n",
      "\n",
      " Word | Entropy (Base 2)\n",
      "------|--------------------\n",
      "FLUME | 2.00000\n",
      "PLUME | 1.50000\n",
      "FLUKE | 1.50000\n",
      "GLUME | 1.00000\n",
      "BLUME | 1.00000\n",
      "KLUGE | 0.81128\n",
      "ELUDE | 0.81128\n",
      "BLUDE | 0.81128\n",
      "\n"
     ]
    },
    {
     "name": "stdin",
     "output_type": "stream",
     "text": [
      "Enter a guess word:  flume\n"
     ]
    },
    {
     "name": "stdout",
     "output_type": "stream",
     "text": [
      "The hint is \"_XX_X\"\n",
      "\n",
      "There is one possible answer word left: \"ELUDE\"\n",
      "\n"
     ]
    },
    {
     "name": "stdin",
     "output_type": "stream",
     "text": [
      "Enter a guess word:  elude\n"
     ]
    },
    {
     "name": "stdout",
     "output_type": "stream",
     "text": [
      "The hint is \"XXXXX\"\n",
      "\n",
      "Congrats! You solved the wordle in 4 guesse(s)!\n"
     ]
    }
   ],
   "source": [
    "GOAL_WORD = \"ELUDE\"\n",
    "HARD_MODE = True\n",
    "\n",
    "n_guesses, n_answers = len(guess_list), len(answer_list)\n",
    "\n",
    "assert n_guesses == guess_answer_hints.shape[0] == guess_guess_hints.shape[0] == guess_guess_hints.shape[1]\n",
    "\n",
    "assert n_answers == guess_answer_hints.shape[1]\n",
    "\n",
    "state = \"suggesting\"\n",
    "remaining_guesses = np.arange(n_guesses)\n",
    "guess_answer_hints_cpy = guess_answer_hints.copy()\n",
    "guess_guess_hints_cpy = guess_guess_hints.copy()\n",
    "guess_counter = 0\n",
    "while True:\n",
    "    if state == \"guessing\":\n",
    "        valid_guess = False\n",
    "        while not valid_guess:\n",
    "            guess = input(\"Enter a guess word: \").upper()\n",
    "            valid_guess = validate_guess(guess, guess_to_idx, remaining_guesses, HARD_MODE)\n",
    "        guess_counter += 1\n",
    "        guess_idx = guess_to_idx[guess]\n",
    "        answer_hints = guess_answer_hints_cpy[guess_idx]\n",
    "        guess_hints = guess_guess_hints_cpy[guess_idx]\n",
    "        state = \"hinting\"\n",
    "    \n",
    "    if state == \"hinting\":\n",
    "        if GOAL_WORD is None:\n",
    "            valid_hint = False\n",
    "            while not valid_hint:\n",
    "                hint_str = input(\"Enter the resulting hint: \").upper()\n",
    "                valid_hint = validate_hint(hint_str, answer_hints)\n",
    "            hint = str_to_hint(hint_str)\n",
    "            \n",
    "        else:\n",
    "            hint = get_hint(guess, GOAL_WORD)\n",
    "            print(f\"The hint is \\\"{hint_to_str(hint)}\\\"\\n\")\n",
    "            \n",
    "        if hint == str_to_hint(\"XXXXX\"):\n",
    "            print(f\"Congrats! You solved the wordle in {guess_counter} guesse(s)!\")\n",
    "            break\n",
    "                \n",
    "        guess_answer_hints_cpy = guess_answer_hints_cpy[:, answer_hints == hint]\n",
    "        \n",
    "        if HARD_MODE:\n",
    "            possible_guesses = (guess_hints == hint)\n",
    "            remaining_guesses = remaining_guesses[possible_guesses]\n",
    "            guess_guess_hints_cpy = guess_guess_hints_cpy[:, possible_guesses]\n",
    "            \n",
    "        state = \"suggesting\"\n",
    "        \n",
    "    \n",
    "    if state == \"suggesting\":\n",
    "        n_remaining_answers = guess_answer_hints_cpy.shape[1]\n",
    "        \n",
    "        if n_remaining_answers == 0:\n",
    "            print(f\"Something is wrong, there are no possible answers remaining\")\n",
    "            break\n",
    "        \n",
    "        if n_remaining_answers == 1:\n",
    "            answer_idx = np.where(guess_answer_hints_cpy == str_to_hint(\"XXXXX\"))[0][0]\n",
    "            answer = guess_list[answer_idx]\n",
    "            print(f\"There is one possible answer word left: \\\"{answer}\\\"\\n\")\n",
    "\n",
    "        if n_remaining_answers > 1:\n",
    "            guess_idxs = None if not HARD_MODE else remaining_guesses\n",
    "            guess_idxs, entropies = get_entropies(guess_answer_hints_cpy, guess_idxs)\n",
    "            display_guess_entropies(guess_idxs, guess_list, entropies)\n",
    "        \n",
    "        state = \"guessing\""
   ]
  },
  {
   "cell_type": "code",
   "execution_count": null,
   "id": "ab241794-862f-4b66-9c95-3949f64fc485",
   "metadata": {},
   "outputs": [],
   "source": []
  }
 ],
 "metadata": {
  "kernelspec": {
   "display_name": "Python 3 (ipykernel)",
   "language": "python",
   "name": "python3"
  },
  "language_info": {
   "codemirror_mode": {
    "name": "ipython",
    "version": 3
   },
   "file_extension": ".py",
   "mimetype": "text/x-python",
   "name": "python",
   "nbconvert_exporter": "python",
   "pygments_lexer": "ipython3",
   "version": "3.9.12"
  }
 },
 "nbformat": 4,
 "nbformat_minor": 5
}
